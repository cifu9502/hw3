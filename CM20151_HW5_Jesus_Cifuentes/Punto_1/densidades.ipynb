{
 "metadata": {
  "name": ""
 },
 "nbformat": 3,
 "nbformat_minor": 0,
 "worksheets": [
  {
   "cells": [
    {
     "cell_type": "code",
     "collapsed": false,
     "input": [
      "from __future__ import division \n",
      "import numpy as np\n",
      "\n",
      "\n",
      "#He conseguido crear un algoritmo lo suficientemente eficiente como para obtener una matriz de densidades de 250**3 en poco\n",
      "#tiempo. Intentar crear una matriz de 1000**3 como se dice en el taller no tiene mucho sentido teniendo en cuenta el hecho\n",
      "#de que python no permite tal alocacion de memoria. De hecho tambien hay que tener en cuenta que realizar la antitransformada de \n",
      "#fourier para mas valores no ser\u00eda posible para un computador por lo que 250 es un limite aceptable\n",
      "m =1\n",
      "s = 'Serena-Venus.txt'\n",
      "infile = open(s, 'r')\n",
      "text = infile.readlines()\n",
      "#Numero de partes en las que se divide cada lado\n",
      "part = 250\n",
      "#ro ser\u00e1 la matriz con las densidades\n",
      "ro = np.zeros((part, part,part))\n",
      "\n",
      "#En p se guardaran las columnas necesarias del texto\n",
      "p1 = np.zeros((3,len(text)))\n",
      "n = 0\n",
      "for x in text:\n",
      "    #parte el texto x segun ' '\n",
      "    a = x.split(' ')\n",
      "    p1[0,n] = float(a[1])\n",
      "    p1[1,n] = float(a[2])\n",
      "    p1[2,n] = float(a[3])\n",
      "    n = n+1    \n",
      "    \n",
      "#p1[0] = np.fft.ifft(p1[0])    \n",
      "#p1[1] = np.fft.ifft(p1[1])    \n",
      "#p1[2] = np.fft.ifft(p1[2])    \n",
      "#p1 = abs(p1)\n",
      "    \n",
      "    \n",
      "#Se definen los valores de los deltas para cada dimension    \n",
      "l0 = max(p1[0])-min(p1[0])   \n",
      "delta0 = l0/part \n",
      "    \n",
      "l1 = max(p1[1])-min(p1[1])   \n",
      "delta1 = l1/part\n",
      "\n",
      "l2 = max(p1[2])-min(p1[2])   \n",
      "delta2 = l2/part \n",
      " \n"
     ],
     "language": "python",
     "metadata": {},
     "outputs": [],
     "prompt_number": 104
    },
    {
     "cell_type": "code",
     "collapsed": false,
     "input": [
      "#Se da la posici\u00f3n de los centros de las casillas y se guardan en a\n",
      "a = np.zeros((3, part))\n",
      "a[0]= np.linspace(min(p1[0])+delta0/2,max(p1[0])-delta0/2,part)\n",
      "a[1]= np.linspace(min(p1[1])+delta1/2,max(p1[1])-delta1/2,part)\n",
      "a[2]= np.linspace(min(p1[2])+delta2/2,max(p1[2])-delta2/2,part)\n"
     ],
     "language": "python",
     "metadata": {},
     "outputs": [],
     "prompt_number": 105
    },
    {
     "cell_type": "code",
     "collapsed": false,
     "input": [
      "\n",
      "#Esta funci\u00f3n dir\u00e1 si el vector x est\u00e1 dentro del cubo centrado en 0 y lado delta.\n",
      "def W(x, delta):\n",
      "    if (-delta < x) & (x <= 0):\n",
      "        return 1+x/delta\n",
      "    elif (delta > x) & (x > 0):\n",
      "        return 1-x/delta\n",
      "    else:\n",
      "        return 0\n",
      "    "
     ],
     "language": "python",
     "metadata": {},
     "outputs": [],
     "prompt_number": 106
    },
    {
     "cell_type": "code",
     "collapsed": false,
     "input": [
      "#Se llena la matriz ro utilizando la fucion give ro, iterando sobre cada punto en la matriz p1 y a\u00f1adiendo su contribucion\n",
      "#a la densididad de los puntos cercanos a p0 unicamente\n",
      "\n",
      "#Sera la matriz de densidades\n",
      "ro = np.zeros((part, part,part))\n",
      "t0 = a[0]\n",
      "t1 = a[1]\n",
      "t2 = a[2]\n",
      "for i in range(0,len(p1[0])):\n",
      "    #Se encuentran los limites inferiores en cada eje para los puntos en la matriz p1 de manera que podamos localizar las\n",
      "    #matrices cercanas inferiores\n",
      "    xa = t0[t0<p1[0,i]]\n",
      "    ya = t1[t1<p1[1,i]]\n",
      "    za = t2[t2<p1[2,i]]\n",
      "    #La casilla dada por i1,i2,i3 sera la casilla con coordenadas inferiores en cada eje a p1[i], mas cercana a este. \n",
      "    #Dependiendo de donde se encuentre el punto p hay que tener en cuenta ciertas exepciones razon del los elif a continuacion\n",
      "    if len(xa) == 0:\n",
      "        i1 = 0\n",
      "        j1 = 1\n",
      "    elif len(xa) == len(t0):\n",
      "        i1 = t0.tolist().index(max(xa))\n",
      "        j1 = i1+1\n",
      "    else:     \n",
      "        i1 = t0.tolist().index(max(xa))\n",
      "        j1 = i1+2\n",
      "        \n",
      "        \n",
      "    if len(ya) == 0:\n",
      "        i2 = 0\n",
      "        j2 = 1\n",
      "    elif len(ya) == len(t1):\n",
      "        i2 = t1.tolist().index(max(ya))\n",
      "        j2 = i2+1    \n",
      "    else:     \n",
      "        i2 = t1.tolist().index(max(ya))\n",
      "        j2 = i2+2\n",
      "        \n",
      "        \n",
      "    if len(za) == 0:\n",
      "        i3 = 0\n",
      "        j3 = 1\n",
      "    elif len(za) == len(t2):\n",
      "        i3 = t2.tolist().index(max(za))\n",
      "        j3 = i3+1    \n",
      "    else:     \n",
      "        i3 = t2.tolist().index(max(za))\n",
      "        j3 = i3+2\n",
      "        \n",
      "    k2=i2\n",
      "    k3=i3\n",
      "    #Se itera sobre las casillas mas cercanas al punto p, normalmente son 8 casillas las que son cercanas a un punto, pero\n",
      "    #puede haber ciertas excepciones si entra en alguno de los casos restringidos anteriormente\n",
      "    while(i1 < j1):\n",
      "        i2=k2\n",
      "        while(i2 < j2):\n",
      "            i3 = k3\n",
      "            while(i3 < j3):\n",
      "                #Para cada una de estas casillas se a\u00f1ade la contribucion segun esta dado en la funcion de densidad\n",
      "                ro[i1,i2,i3] = ro[i1,i2,i3] + (W(a[0,i1] - p1[0,i], delta0)*W(a[1,i2]  - p1[1,i],delta1)*W(a[2,i3]- p1[2,i],delta2))*m/(delta1*delta2*delta0)\n",
      "                i3 = i3 +1\n",
      "            i2 = i2 +1\n",
      "        i1 = i1 +1    "
     ],
     "language": "python",
     "metadata": {},
     "outputs": [],
     "prompt_number": 107
    },
    {
     "cell_type": "code",
     "collapsed": false,
     "input": [
      "#Una buena forma de comprobar que este metodo es bastante cercano a lo que se desea es utilizando el codigo \n",
      "#ro.sum()*(delta1*delta2*delta0)   el cual debe dar cercano a 4796 que es el numero de elementos. Esto es, ya que estamos\n",
      "#suponiendo que todas las masas son de masa 1.(Tampoco es completamente igual ya que el metodo utilizado tiene un enfoque \n",
      "#distinto, pero basta con que se acerque)\n",
      "ro.sum()*(delta1*delta2*delta0) "
     ],
     "language": "python",
     "metadata": {},
     "outputs": [
      {
       "metadata": {},
       "output_type": "pyout",
       "prompt_number": 108,
       "text": [
        "4791.8692925423775"
       ]
      }
     ],
     "prompt_number": 108
    },
    {
     "cell_type": "code",
     "collapsed": false,
     "input": [
      "len(text)"
     ],
     "language": "python",
     "metadata": {},
     "outputs": [
      {
       "metadata": {},
       "output_type": "pyout",
       "prompt_number": 109,
       "text": [
        "4796"
       ]
      }
     ],
     "prompt_number": 109
    },
    {
     "cell_type": "code",
     "collapsed": false,
     "input": [
      "#guarda la matriz de densidades ro en el archivo densidades.dat. Ya que es una matriz de 150*150*150 las escribre de tal \n",
      "# manera que escribe 150 matraces de dimension 2 cada una con una posici\u00f3n diferente en x\n",
      "\n",
      "#inputs fileName-- nombre del archivo donde se guarda\n",
      "#       matix--  matriz a guaradar\n",
      "#       dim-- dimension de la matriz\n",
      "\n",
      "def guardar(fileName,matrix,dim):  \n",
      "    fh = open(fileName, 'w')\n",
      "    for i in range(0,dim):\n",
      "        for j in range(0,dim):\n",
      "            fh.write('\\n')\n",
      "            for k in range(0,dim):\n",
      "                fh.write(repr(matrix[i,j,k])+',')\n",
      "                \n",
      "    fh.close()"
     ],
     "language": "python",
     "metadata": {},
     "outputs": [],
     "prompt_number": 110
    },
    {
     "cell_type": "code",
     "collapsed": false,
     "input": [
      "guardar('densidades.dat', ro,part)"
     ],
     "language": "python",
     "metadata": {},
     "outputs": [],
     "prompt_number": 111
    },
    {
     "cell_type": "code",
     "collapsed": false,
     "input": [
      "#recupera la informaci\u00f3n de la matriz  Matrix guardada en filename. Nos permite transmitir informacion entre diferentes partes del makefile\n",
      "#inputs fileName-- nombre del archivo donde se guarda\n",
      "#       matix--  matriz a guaradar\n",
      "#       dim-- dimension de la matriz\n",
      "\n",
      "def cargar(fileName,dim):\n",
      "    infile = open(fileName, 'r')\n",
      "    \n",
      "    #load the full text by lines\n",
      "    text = infile.readlines()\n",
      "    \n",
      "    ro1 = np.zeros((dim, dim,dim))\n",
      "    num = 1\n",
      "    for i in range(0,dim):\n",
      "        for j in range(0,dim):\n",
      "             g = text[num].split(',')\n",
      "             g = np.array(g[:-1])\n",
      "             ro1[i,j,:]= g.astype(np.float)\n",
      "             num = num+1\n",
      "    return ro1            \n"
     ],
     "language": "python",
     "metadata": {},
     "outputs": [],
     "prompt_number": 112
    },
    {
     "cell_type": "code",
     "collapsed": false,
     "input": [
      "ro1 = cargar('densidades.dat',part)\n",
      "(ro1-ro).sum()"
     ],
     "language": "python",
     "metadata": {},
     "outputs": [
      {
       "metadata": {},
       "output_type": "pyout",
       "prompt_number": 113,
       "text": [
        "0.0"
       ]
      }
     ],
     "prompt_number": 113
    },
    {
     "cell_type": "code",
     "collapsed": false,
     "input": [
      "ro2 = np.fft.fftn(ro)\n"
     ],
     "language": "python",
     "metadata": {},
     "outputs": [],
     "prompt_number": 114
    },
    {
     "cell_type": "code",
     "collapsed": false,
     "input": [
      "#Se hace la antitrasformada de fourier de las densidades para obtener phi\n",
      "phi = np.fft.ifftn(-ro2)\n",
      "phi = abs(phi)\n"
     ],
     "language": "python",
     "metadata": {},
     "outputs": [],
     "prompt_number": 115
    },
    {
     "cell_type": "code",
     "collapsed": false,
     "input": [
      "#phi1 = cargar('phi.dat',part)\n",
      "#(phi1-phi).sum()"
     ],
     "language": "python",
     "metadata": {},
     "outputs": [],
     "prompt_number": 116
    },
    {
     "cell_type": "code",
     "collapsed": false,
     "input": [
      "# Derivamos parcialmente en phi para obtener la matriz de fuerza en cada cordenada. Utilizamos la formula \n",
      "#f'(x) = f(x+h)-f(x-h)/2h\n",
      "Fx = -(phi[2:,1:-1,1:-1]-phi[:-2,1:-1,1:-1])/(2*delta0)\n",
      "Fy = -(phi[1:-1,2:,1:-1]-phi[1:-1,:-2,1:-1])/(2*delta1)\n",
      "Fz = -(phi[1:-1,1:-1,2:]-phi[1:-1,1:-1,:-2])/(2*delta2)"
     ],
     "language": "python",
     "metadata": {},
     "outputs": [],
     "prompt_number": 117
    },
    {
     "cell_type": "code",
     "collapsed": false,
     "input": [
      "F2 = (Fx**2+Fy**2 + Fz**2)**(0.5) \n"
     ],
     "language": "python",
     "metadata": {},
     "outputs": [],
     "prompt_number": 118
    },
    {
     "cell_type": "code",
     "collapsed": false,
     "input": [
      "#F1 = cargar('fuerza.dat',part-2)\n",
      "#(F1-F2).sum()"
     ],
     "language": "python",
     "metadata": {},
     "outputs": [],
     "prompt_number": 119
    },
    {
     "cell_type": "code",
     "collapsed": false,
     "input": [
      "mini = F2.min()\n",
      "Max = F2.max()"
     ],
     "language": "python",
     "metadata": {},
     "outputs": [],
     "prompt_number": 120
    },
    {
     "cell_type": "code",
     "collapsed": false,
     "input": [
      "#Da la posicision en 3D del elemento con valor num en la matriz F2 de fuerzas\n",
      "def darPosicion(num):\n",
      "    m1 = np.where(F2==num)\n",
      "    Min = []\n",
      "    Min.append( m1[0]*delta0 + a[0][1])\n",
      "    Min.append( m1[1]*delta1 + a[1][1])\n",
      "    Min.append( m1[2]*delta2 + a[2][1])\n",
      "    return (map(float, Min))       \n",
      "            "
     ],
     "language": "python",
     "metadata": {},
     "outputs": [],
     "prompt_number": 121
    },
    {
     "cell_type": "code",
     "collapsed": false,
     "input": [
      "mi = darPosicion(mini)           \n",
      "maxi = darPosicion(Max)\n",
      "darPosicion(Max)"
     ],
     "language": "python",
     "metadata": {},
     "outputs": [
      {
       "metadata": {},
       "output_type": "pyout",
       "prompt_number": 122,
       "text": [
        "[35.7811115, 36.448796120000004, 35.41413344]"
       ]
      }
     ],
     "prompt_number": 122
    },
    {
     "cell_type": "code",
     "collapsed": false,
     "input": [
      "from scipy import meshgrid\n",
      "import matplotlib.pyplot as plt\n",
      "\n",
      "#Proyectamos al plano x-z  para graficar (Esto es, sumamos sobre cada punto en el plano x-z las fuerzas para cada posicion en y)\n",
      "F12 = F2[:,0,:]\n",
      "for k in range(1, part-2):\n",
      "    F12 = F12 + F2[:,k,:]\n",
      "\n"
     ],
     "language": "python",
     "metadata": {},
     "outputs": [],
     "prompt_number": 123
    },
    {
     "cell_type": "code",
     "collapsed": false,
     "input": [
      "#Da la posicision en 3D del elemento con valor num en la matriz F12 de fuerzas proyectadas al plano x-z\n",
      "def darPosicion2(num):\n",
      "    m1 = np.where(F12==num)\n",
      "    Min = []\n",
      "    Min.append( m1[0]*delta0 + a[0][1])\n",
      "    Min.append( m1[1]*delta2 + a[2][1])\n",
      "    return (map(float, Min)) "
     ],
     "language": "python",
     "metadata": {},
     "outputs": [],
     "prompt_number": 124
    },
    {
     "cell_type": "code",
     "collapsed": false,
     "input": [
      "mini = F12.min()\n",
      "Max = F12.max()"
     ],
     "language": "python",
     "metadata": {},
     "outputs": [],
     "prompt_number": 125
    },
    {
     "cell_type": "code",
     "collapsed": false,
     "input": [
      "#Se encuentra la posicion de los puntos de minima y maxima fuerza en el plano x-z utilizando la funcion darPosicion2\n",
      "mi2 = darPosicion2(mini)           \n",
      "maxi2 = darPosicion2(Max)   \n",
      "\n",
      "fig, axs = plt.subplots(1,1)\n",
      "\n",
      "#Se grafican los puntos de minima y maxima fuerza\n",
      "axs.plot([mi2[0]], [mi2[1]], 'ro')\n",
      "axs.text(mi2[0],mi2[1],'Minimo')\n",
      "\n",
      "\n",
      "axs.plot([maxi2[0]], [maxi2[1]], 'ro')\n",
      "axs.text(maxi2[0],maxi2[1],'Maximo')\n",
      "\n",
      "#Debido a la forma de la funcion contourf es necesario trasponer la matriz\n",
      "F12 = F12.transpose()\n",
      "#Se define el numero de niveles que va a tener el contorno. Para nuestro caso elegimos 15\n",
      "levels = np.linspace(mini, Max, 15)\n",
      "\n",
      "#Se hace el mapeo por el contorno dado\n",
      "cs = axs.contourf(a[0][1:-1], a[2][1:-1], F12, levels=levels)\n",
      "#Se a\u00f1ade barra de color\n",
      "fig.colorbar(cs, ax=axs, format=\"%.3g\")\n",
      "\n",
      "#Se extiende el mapa a nuestro dominio dado \n",
      "axs.imshow(F12.T, extent=(min(p1[0]),max(p1[0]),min(p1[2]),max(p1[2])), origin='lower')\n",
      "\n",
      "#Se grafica la matriz F12 de fuerzas proyectadas al plano x-z. Note que el resultado es muy parecido a la imagen dada, fue por eso que se escogio este plano\n",
      "#Se esta extendiendo entre los valores  minimos y maximos en x y en z en el archivo de ipython que  correponden justamente a los valores minimos y maximos de la posicion\n",
      "#plt.imshow(F12.T, extent=(min(p1[0]),max(p1[0]),min(p1[2]),max(p1[2])), origin='lower')\n",
      "\n",
      "\n",
      "plt.title('Serena Venus')\n",
      "plt.ylabel('Z')\n",
      "plt.xlabel('X')\n",
      "plt.savefig('serena.png')\n",
      "plt.show()\n"
     ],
     "language": "python",
     "metadata": {},
     "outputs": [],
     "prompt_number": 126
    }
   ],
   "metadata": {}
  }
 ]
}