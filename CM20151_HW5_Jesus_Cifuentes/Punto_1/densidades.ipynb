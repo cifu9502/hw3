{
 "metadata": {
  "name": ""
 },
 "nbformat": 3,
 "nbformat_minor": 0,
 "worksheets": [
  {
   "cells": [
    {
     "cell_type": "code",
     "collapsed": false,
     "input": [
      "from __future__ import division \n",
      "import numpy as np\n",
      "\n",
      "\n",
      "#He conseguido crear un algoritmo lo suficientemente eficiente como para obtener una matriz de densidades de 150**3 en poco\n",
      "#tiempo. Intentar crear una matriz de 1000**3 como se dice en el taller no tiene mucho sentido teniendo en cuenta el hecho\n",
      "#de que python no permite tal alocacion de memoria. Por lo que nos conformaremos con 150. (\n",
      "m =1\n",
      "s = 'Serena-Venus.txt'\n",
      "infile = open(s, 'r')\n",
      "text = infile.readlines()\n",
      "#Numero de partes en las que se divide cada lado\n",
      "part = 150\n",
      "#ro ser\u00e1 la matriz con las densidades\n",
      "ro = np.zeros((part, part,part))\n",
      "\n",
      "#En p se guardaran las columnas necesarias del texto\n",
      "p1 = np.zeros((3,len(text)))\n",
      "n = 0\n",
      "for x in text:\n",
      "    #parte el texto x segun ' '\n",
      "    a = x.split(' ')\n",
      "    p1[0,n] = float(a[1])\n",
      "    p1[1,n] = float(a[2])\n",
      "    p1[2,n] = float(a[3])\n",
      "    n = n+1    \n",
      "    \n",
      "#p1[0] = np.fft.ifft(p1[0])    \n",
      "#p1[1] = np.fft.ifft(p1[1])    \n",
      "#p1[2] = np.fft.ifft(p1[2])    \n",
      "#p1 = abs(p1)\n",
      "    \n",
      "    \n",
      "#Se definen los valores de los deltas para cada dimension    \n",
      "l0 = max(p1[0])-min(p1[0])   \n",
      "delta0 = l0/part \n",
      "    \n",
      "l1 = max(p1[1])-min(p1[1])   \n",
      "delta1 = l1/part\n",
      "\n",
      "l2 = max(p1[2])-min(p1[2])   \n",
      "delta2 = l2/part \n",
      " \n"
     ],
     "language": "python",
     "metadata": {},
     "outputs": [],
     "prompt_number": 195
    },
    {
     "cell_type": "code",
     "collapsed": false,
     "input": [
      "#Se ordena la matriz p de acuerdo a la fila 1\n",
      "\n",
      "#inputs: points: matriz de 3 columnas; i: numero de la columna+\n",
      "#return p: la matriz points ordenada segun los datos de la columna i-esima\n",
      "def ordenar(points,i):\n",
      "    ord = points[i]\n",
      "    ord = np.argsort(ord)\n",
      "    \n",
      "    p = np.zeros((3,len(points[0])))\n",
      "    n = 0\n",
      "    for i in ord:\n",
      "        p[0,n] = points[0,i]\n",
      "        p[1,n] = points[1,i]\n",
      "        p[2,n] = points[2,i]\n",
      "        n = n+1\n",
      "    return p"
     ],
     "language": "python",
     "metadata": {},
     "outputs": [],
     "prompt_number": 196
    },
    {
     "cell_type": "code",
     "collapsed": false,
     "input": [
      "p = ordenar(p1,0)"
     ],
     "language": "python",
     "metadata": {},
     "outputs": [],
     "prompt_number": 197
    },
    {
     "cell_type": "code",
     "collapsed": false,
     "input": [
      "#Con el fin de aumentar la efectividad del algoritmo se crea este metodo. B\u00e1sicamente se le insertan dos vectores (en \n",
      "# general seran p[0] y a[0]). Ya que a[0] contiene la ubicaci\u00f3n en x de los centros de cada casilla, este m\u00e9todo permite \n",
      "#saber que puntos estan fuera del alcance de a[0] y por lo tanto en el momento de encontrar la densidad solo se itera sobre\n",
      "#los puntos necesarios\n",
      "\n",
      "#Para que esta funcion tenga sentido es necesario primero haber invocado la funcion ordenar sobre v\n",
      "\n",
      "\n",
      "#Encuentra los limites de alcance en v para cada vector en A\n",
      "#inputs v,a, Vectores con v ordenado anteriormente\n",
      "#return lims lista con los limites de efectividad para cada casilla\n",
      "\n",
      "def getLims(v,A):\n",
      "    lims = [0]\n",
      "    i = 0\n",
      "    #Hay que evitar el caso en que v = Null\n",
      "    if len(v)== 0:\n",
      "        for j in range(0, len(A)):\n",
      "            lims.append(0)\n",
      "        lims.append(0)    \n",
      "    else:\n",
      "        x = v[0]\n",
      "        #Par cada casilla (j) vamos tomando uno por uno los elementos de v y vemos hasta donde se pasa del limite de A[j]\n",
      "        for j in range(0, len(A)):\n",
      "            while (x <= A[j]) & (i<(len(v)-1)):\n",
      "                i = i+1 \n",
      "                x = v[i]\n",
      "            lims.append(i)\n",
      "        lims.append(len(v))\n",
      "    return lims"
     ],
     "language": "python",
     "metadata": {},
     "outputs": [],
     "prompt_number": 198
    },
    {
     "cell_type": "code",
     "collapsed": false,
     "input": [
      "#Se da la posici\u00f3n de los centros de las casillas y se guardan en a\n",
      "a = np.zeros((3, part))\n",
      "a[0]= np.linspace(min(p[0])+delta0/2,max(p[0])-delta0/2,part)\n",
      "a[1]= np.linspace(min(p[1])+delta1/2,max(p[1])-delta1/2,part)\n",
      "a[2]= np.linspace(min(p[2])+delta2/2,max(p[2])-delta2/2,part)\n"
     ],
     "language": "python",
     "metadata": {},
     "outputs": [],
     "prompt_number": 199
    },
    {
     "cell_type": "code",
     "collapsed": false,
     "input": [
      "\n",
      "#Esta funci\u00f3n dir\u00e1 si el vector x est\u00e1 dentro del cubo centrado en 0 y lado delta.\n",
      "def W(x, delta):\n",
      "    if (-delta < x) & (x <= 0):\n",
      "        return 1+x/delta\n",
      "    elif (delta > x) & (x > 0):\n",
      "        return 1-x/delta\n",
      "    else:\n",
      "        return 0\n",
      "    "
     ],
     "language": "python",
     "metadata": {},
     "outputs": [],
     "prompt_number": 200
    },
    {
     "cell_type": "code",
     "collapsed": false,
     "input": [
      "#Dado una celda en la posici\u00f3n x,y,z da la matriz de densidades\n",
      "#inputs x,y,z posicion de la celda\n",
      "#       q , lim numero de celda en el eje dado y limite usado para restringir la sumatoria\n",
      "#       pk matriz de puntos usada\n",
      "def giveRo(x,y,z,q,pk,lim):    \n",
      "    s = 0\n",
      "    #Se suma sobre todas las particulas representadas por la matriz pk, y  tales que las particulas esten entre los \n",
      "    #limites dados que se van a limitar por la funcion getLim\n",
      "    for i in range(lim[q],lim[q+2]):\n",
      "        s = s + W(x - pk[0,i], delta0)*W(y - pk[1,i],delta1)*W(z - pk[2,i],delta2)\n",
      "    return s*m/(delta1*delta2*delta0)    "
     ],
     "language": "python",
     "metadata": {},
     "outputs": [],
     "prompt_number": 201
    },
    {
     "cell_type": "code",
     "collapsed": false,
     "input": [
      "#Se llena la matriz ro utilizando la fucion give ro. Solo se itera sobre aquellos lugares limitados por la funcion getLims\n",
      "\n",
      "p = ordenar(p1,0)\n",
      "lims = getLims(p[0],a[0])\n",
      "\n",
      "\n",
      "for i in range(0,part):\n",
      "    #Sobre cada posicion i de las casillas en la coordenada x se crea una nueva matriz que contenga solo aquellos puntos\n",
      "    #definidos por la funcion getLims. Esta matriz se vuelve a ordenar y se le aplica la funcion getLims sobre a[1] de \n",
      "    #manera que ahora obtenemos los limites sobre el eje y para iterar sobre menos numeros\n",
      "    n = lims[i+2]-lims[i]\n",
      "    p2 = np.zeros((3,n))\n",
      "    p2[0] = p[0][lims[i]:lims[i+2]]\n",
      "    p2[1] = p[1][lims[i]:lims[i+2]]\n",
      "    p2[2] = p[2][lims[i]:lims[i+2]]\n",
      "    \n",
      "    p2 = ordenar(p2,1)\n",
      "    lims2 = getLims(p2[1],a[1])\n",
      "    \n",
      "    for j in range(0,part):\n",
      "        for k in range(0,part):\n",
      "           ro[i,j,k] =  giveRo(a[0,i],a[1,j],a[2,k],j,p2,lims2) \n",
      "            "
     ],
     "language": "python",
     "metadata": {},
     "outputs": [],
     "prompt_number": 202
    },
    {
     "cell_type": "code",
     "collapsed": false,
     "input": [
      "#Una buena forma de comprobar que este metodo es bastante cercano a lo que se desea es utilizando el codigo \n",
      "#ro.sum()*(delta1*delta2*delta0)   el cual debe dar cercano a 4796 que es el numero de elementos. Esto es, ya que estamos\n",
      "#suponiendo que todas las masas son de masa 1.(Tampoco es completamente igual ya que el metodo utilizado tiene un enfoque \n",
      "#distinto, pero basta con que se acerque)\n",
      "ro.sum()*(delta1*delta2*delta0) "
     ],
     "language": "python",
     "metadata": {},
     "outputs": [
      {
       "metadata": {},
       "output_type": "pyout",
       "prompt_number": 203,
       "text": [
        "4716.5811992600029"
       ]
      }
     ],
     "prompt_number": 203
    },
    {
     "cell_type": "code",
     "collapsed": false,
     "input": [
      "len(text)"
     ],
     "language": "python",
     "metadata": {},
     "outputs": [
      {
       "metadata": {},
       "output_type": "pyout",
       "prompt_number": 204,
       "text": [
        "4796"
       ]
      }
     ],
     "prompt_number": 204
    },
    {
     "cell_type": "code",
     "collapsed": false,
     "input": [
      "#guarda la matriz de densidades ro en el archivo densidades.dat. Ya que es una matriz de 150*150*150 las escribre de tal \n",
      "# manera que escribe 150 matraces de dimension 2 cada una con una posici\u00f3n diferente en x\n",
      "\n",
      "#inputs fileName-- nombre del archivo donde se guarda\n",
      "#       matix--  matriz a guaradar\n",
      "#       dim-- dimension de la matriz\n",
      "\n",
      "def guardar(fileName,matrix,dim):  \n",
      "    fh = open(fileName, 'w')\n",
      "    for i in range(0,dim):\n",
      "        for j in range(0,dim):\n",
      "            fh.write('\\n')\n",
      "            for k in range(0,dim):\n",
      "                fh.write(repr(matrix[i,j,k])+',')\n",
      "                \n",
      "    fh.close()"
     ],
     "language": "python",
     "metadata": {},
     "outputs": [],
     "prompt_number": 205
    },
    {
     "cell_type": "code",
     "collapsed": false,
     "input": [
      "guardar('densidades.dat', ro,part)"
     ],
     "language": "python",
     "metadata": {},
     "outputs": [],
     "prompt_number": 206
    },
    {
     "cell_type": "code",
     "collapsed": false,
     "input": [
      "#recupera la informaci\u00f3n de la matriz  Matrix guardada en filename\n",
      "#inputs fileName-- nombre del archivo donde se guarda\n",
      "#       matix--  matriz a guaradar\n",
      "#       dim-- dimension de la matriz\n",
      "\n",
      "def cargar(fileName,dim):\n",
      "    infile = open(fileName, 'r')\n",
      "    \n",
      "    #load the full text by lines\n",
      "    text = infile.readlines()\n",
      "    \n",
      "    ro1 = np.zeros((dim, dim,dim))\n",
      "    num = 1\n",
      "    for i in range(0,dim):\n",
      "        for j in range(0,dim):\n",
      "             g = text[num].split(',')\n",
      "             g = np.array(g[:-1])\n",
      "             ro1[i,j,:]= g.astype(np.float)\n",
      "             num = num+1\n",
      "    return ro1            \n"
     ],
     "language": "python",
     "metadata": {},
     "outputs": [],
     "prompt_number": 207
    },
    {
     "cell_type": "code",
     "collapsed": false,
     "input": [
      "ro1 = cargar('densidades.dat',part)\n",
      "(ro1-ro).sum()"
     ],
     "language": "python",
     "metadata": {},
     "outputs": [
      {
       "metadata": {},
       "output_type": "pyout",
       "prompt_number": 208,
       "text": [
        "0.0"
       ]
      }
     ],
     "prompt_number": 208
    },
    {
     "cell_type": "code",
     "collapsed": false,
     "input": [
      "#Se hace la antitrasformada de fourier de las densidades para obtener phi\n",
      "phi = np.fft.ifftn(-ro)\n",
      "phi = abs(phi)\n"
     ],
     "language": "python",
     "metadata": {},
     "outputs": [],
     "prompt_number": 221
    },
    {
     "cell_type": "code",
     "collapsed": false,
     "input": [
      "phi1 = cargar('phi.dat',part)\n",
      "(phi1-phi).sum()"
     ],
     "language": "python",
     "metadata": {},
     "outputs": [
      {
       "metadata": {},
       "output_type": "pyout",
       "prompt_number": 222,
       "text": [
        "0.0"
       ]
      }
     ],
     "prompt_number": 222
    },
    {
     "cell_type": "code",
     "collapsed": false,
     "input": [
      "# Derivamos parcialmente en phi para obtener la matriz de fuerza en cada cordenada. Utilizamos la formula \n",
      "#f'(x) = f(x+h)-f(x-h)/2h\n",
      "Fx = -(phi[2:,1:-1,1:-1]-phi[:-2,1:-1,1:-1])/(2*delta0)\n",
      "Fy = -(phi[1:-1,2:,1:-1]-phi[1:-1,:-2,1:-1])/(2*delta1)\n",
      "Fz = -(phi[1:-1,1:-1,2:]-phi[1:-1,1:-1,:-2])/(2*delta2)"
     ],
     "language": "python",
     "metadata": {},
     "outputs": [],
     "prompt_number": 223
    },
    {
     "cell_type": "code",
     "collapsed": false,
     "input": [
      "F2 = (Fx**2+Fy**2 + Fz**2)**(0.5) \n"
     ],
     "language": "python",
     "metadata": {},
     "outputs": [],
     "prompt_number": 224
    },
    {
     "cell_type": "code",
     "collapsed": false,
     "input": [
      "F1 = cargar('fuerza.dat',part-2)\n",
      "(F1-F2).sum()"
     ],
     "language": "python",
     "metadata": {},
     "outputs": [
      {
       "metadata": {},
       "output_type": "pyout",
       "prompt_number": 225,
       "text": [
        "0.0"
       ]
      }
     ],
     "prompt_number": 225
    },
    {
     "cell_type": "code",
     "collapsed": false,
     "input": [
      "mini = F2.min()\n",
      "Max = F2.max()"
     ],
     "language": "python",
     "metadata": {},
     "outputs": [],
     "prompt_number": 226
    },
    {
     "cell_type": "code",
     "collapsed": false,
     "input": [
      "def darPosicion(num):\n",
      "    for i in range(0,part-2):\n",
      "        for j in range(0,part-2):\n",
      "            for k in range(0,part-2):\n",
      "                if F2[i,j,k] == num:\n",
      "                    return [i,j,k]\n",
      "                \n",
      "darPosicion(mini)           \n",
      "            "
     ],
     "language": "python",
     "metadata": {},
     "outputs": [
      {
       "metadata": {},
       "output_type": "pyout",
       "prompt_number": 227,
       "text": [
        "[74, 74, 74]"
       ]
      }
     ],
     "prompt_number": 227
    },
    {
     "cell_type": "code",
     "collapsed": false,
     "input": [
      "darPosicion(Max)"
     ],
     "language": "python",
     "metadata": {},
     "outputs": [
      {
       "metadata": {},
       "output_type": "pyout",
       "prompt_number": 228,
       "text": [
        "[0, 1, 0]"
       ]
      }
     ],
     "prompt_number": 228
    },
    {
     "cell_type": "code",
     "collapsed": false,
     "input": [
      "from scipy import meshgrid\n",
      "import matplotlib.pyplot as plt\n",
      "ro1 = ro[:,0,:]\n",
      "for k in range(1, part):\n",
      "    ro1 = ro1 + ro[:,k,:]\n",
      "\n",
      "plt.imshow(ro1.T, extent=(0,1,0,1), origin='lower')\n",
      "plt.show()"
     ],
     "language": "python",
     "metadata": {},
     "outputs": [],
     "prompt_number": 229
    },
    {
     "cell_type": "code",
     "collapsed": false,
     "input": [
      "\n",
      "F12 = F2[:,0,:]\n",
      "for k in range(1, part-2):\n",
      "    F12 = F12 + F2[:,k,:]\n",
      "\n",
      "plt.imshow(F12.T, extent=(0,1,0,1), origin='lower')\n",
      "plt.title('Serena Venus')\n",
      "plt.ylabel('Y')\n",
      "plt.xlabel('X')\n",
      "plt.savefig('serena.png')\n",
      "plt.show()\n"
     ],
     "language": "python",
     "metadata": {},
     "outputs": [],
     "prompt_number": 232
    },
    {
     "cell_type": "code",
     "collapsed": false,
     "input": [],
     "language": "python",
     "metadata": {},
     "outputs": []
    }
   ],
   "metadata": {}
  }
 ]
}