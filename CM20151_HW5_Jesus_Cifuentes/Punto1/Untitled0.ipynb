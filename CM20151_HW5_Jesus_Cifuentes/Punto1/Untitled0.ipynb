{
 "metadata": {
  "name": ""
 },
 "nbformat": 3,
 "nbformat_minor": 0,
 "worksheets": [
  {
   "cells": [
    {
     "cell_type": "code",
     "collapsed": false,
     "input": [
      "from __future__ import division \n",
      "import numpy as np\n",
      "\n",
      "\n",
      "#He conseguido crear un algoritmo lo suficientemente eficiente como para obtener una matriz de densidades de 150**3 en poco\n",
      "#tiempo. Intentar crear una matriz de 1000**3 como se dice en el taller no tiene mucho sentido teniendo en cuenta el hecho\n",
      "#de que python no permite tal alocacion de memoria. Por lo que nos conformaremos con 150. (\n",
      "m =1\n",
      "s = 'Serena-Venus.txt'\n",
      "infile = open(s, 'r')\n",
      "text = infile.readlines()\n",
      "#Numero de partes en las que se divide cada lado\n",
      "part = 150\n",
      "#ro ser\u00e1 la matriz con las densidades\n",
      "ro = np.zeros((part, part,part))\n",
      "\n",
      "#En p se guardaran las columnas necesarias del texto\n",
      "p1 = np.zeros((3,len(text)))\n",
      "n = 0\n",
      "for x in text:\n",
      "    #parte el texto x segun ' '\n",
      "    a = x.split(' ')\n",
      "    p1[0,n] = float(a[1])\n",
      "    p1[1,n] = float(a[2])\n",
      "    p1[2,n] = float(a[3])\n",
      "    n = n+1    \n",
      "\n",
      "#Se definen los valores de los deltas para cada dimension    \n",
      "l0 = max(p1[0])-min(p1[0])   \n",
      "delta0 = l0/part \n",
      "    \n",
      "l1 = max(p1[1])-min(p1[1])   \n",
      "delta1 = l1/part\n",
      "\n",
      "l2 = max(p1[2])-min(p1[2])   \n",
      "delta2 = l2/part \n",
      "    \n"
     ],
     "language": "python",
     "metadata": {},
     "outputs": [],
     "prompt_number": 129
    },
    {
     "cell_type": "code",
     "collapsed": false,
     "input": [
      "#Se ordena la matriz p de acuerdo a la fila 1\n",
      "\n",
      "#inputs: points: matriz de 3 columnas; i: numero de la columna+\n",
      "#return p: la matriz points ordenada segun los datos de la columna i-esima\n",
      "def ordenar(points,i):\n",
      "    ord = points[i]\n",
      "    ord = np.argsort(ord)\n",
      "    \n",
      "    p = np.zeros((3,len(points[0])))\n",
      "    n = 0\n",
      "    for i in ord:\n",
      "        p[0,n] = points[0,i]\n",
      "        p[1,n] = points[1,i]\n",
      "        p[2,n] = points[2,i]\n",
      "        n = n+1\n",
      "    return p"
     ],
     "language": "python",
     "metadata": {},
     "outputs": [],
     "prompt_number": 109
    },
    {
     "cell_type": "code",
     "collapsed": false,
     "input": [
      "#Con el fin de aumentar la efectividad del algoritmo se crea este metodo. B\u00e1sicamente se le insertan dos vectores (en \n",
      "# general seran p[0] y a[0]). Ya que a[0] contiene la ubicaci\u00f3n en x de los centros de cada casilla, este m\u00e9todo permite \n",
      "#saber que puntos estan fuera del alcance de a[0] y por lo tanto en el momento de encontrar la densidad solo se itera sobre\n",
      "#los puntos necesarios\n",
      "\n",
      "#Para que esta funcion tenga sentido es necesario primero haber invocado la funcion ordenar sobre v\n",
      "\n",
      "#inputs v,a, Vectores con v ordenado anteriormente\n",
      "#return lims lista con los limites de efectividad para cada casilla\n",
      "\n",
      "def getLims(v,A):\n",
      "    lims = [0]\n",
      "    i = 0\n",
      "    x = v[0]\n",
      "    for j in range(0, len(A)):\n",
      "        while (x <= A[j]) & (i<(len(v)-1)):\n",
      "            i = i+1 \n",
      "            x = v[i]\n",
      "        lims.append(i)\n",
      "    lims.append(len(v))\n",
      "    return lims"
     ],
     "language": "python",
     "metadata": {},
     "outputs": [],
     "prompt_number": 110
    },
    {
     "cell_type": "code",
     "collapsed": false,
     "input": [
      "p = ordenar(p1,0)\n",
      "lims = getLims(p[0],a[0])\n"
     ],
     "language": "python",
     "metadata": {},
     "outputs": [],
     "prompt_number": 111
    },
    {
     "cell_type": "code",
     "collapsed": false,
     "input": [
      "#Se da la posici\u00f3n de los centros de las casillas y se guardan en a\n",
      "a = np.zeros((3, part))\n",
      "a[0]= np.linspace(min(p[0])+delta0/2,max(p[0])-delta0/2,part)\n",
      "a[1]= np.linspace(min(p[1])+delta1/2,max(p[1])-delta1/2,part)\n",
      "a[2]= np.linspace(min(p[2])+delta2/2,max(p[2])-delta2/2,part)\n",
      "len(a[0])"
     ],
     "language": "python",
     "metadata": {},
     "outputs": [
      {
       "metadata": {},
       "output_type": "pyout",
       "prompt_number": 205,
       "text": [
        "150"
       ]
      }
     ],
     "prompt_number": 205
    },
    {
     "cell_type": "code",
     "collapsed": false,
     "input": [
      "\n",
      "#Esta funci\u00f3n dir\u00e1 si el vector x est\u00e1 dentro del cubo centrado en 0 y lado delta.\n",
      "def W(x, delta):\n",
      "    if (-delta < x) & (x <= 0):\n",
      "        return 1+x/delta\n",
      "    elif (delta > x) & (x > 0):\n",
      "        return 1-x/delta\n",
      "    else:\n",
      "        return 0\n",
      "    "
     ],
     "language": "python",
     "metadata": {},
     "outputs": [],
     "prompt_number": 113
    },
    {
     "cell_type": "code",
     "collapsed": false,
     "input": [
      "#Dado una celda en la posici\u00f3n x,y,z da la matriz de densidades\n",
      "#inputs x,y,z posicion de la celda\n",
      "#       q , lim numero de celda en el eje dado y limite usado para restringir la sumatoria\n",
      "#       pk matriz de puntos usada\n",
      "def giveRo(x,y,z,q,pk,lim):    \n",
      "    s = 0\n",
      "    #Se suma sobre todas las particulas representadas por la matriz pk, y  tales que las particulas esten entre los \n",
      "    #limites dados que se van a limitar por la funcion getLim\n",
      "    for i in range(lim[q],lim[q+2]):\n",
      "        s = s + W(x - pk[0,i], delta0)*W(y - pk[1,i],delta1)*W(z - pk[2,i],delta2)\n",
      "    return s*m/(delta1*delta2*delta0)    "
     ],
     "language": "python",
     "metadata": {},
     "outputs": [],
     "prompt_number": 118
    },
    {
     "cell_type": "code",
     "collapsed": false,
     "input": [
      "#Se llena la matriz ro utilizando la fucion give ro. Solo se itera sobre aquellos lugares limitados por la funcion getLims\n",
      "\n",
      "p = ordenar(p1,0)\n",
      "lims = getLims(p[0],a[0])\n",
      "\n",
      "for i in range(0,part):\n",
      "    #Sobre cada posicion i de las casillas en la coordenada x se crea una nueva matriz que contenga solo aquellos puntos\n",
      "    #definidos por la funcion getLims. Esta matriz se vuelve a ordenar y se le aplica la funcion getLims sobre a[1] de \n",
      "    #manera que ahora obtenemos los limites sobre el eje y para iterar sobre menos numeros\n",
      "    n = lims[i+2]-lims[i]\n",
      "    p2 = np.zeros((3,n))\n",
      "    p2[0] = p[0][lims[i]:lims[i+2]]\n",
      "    p2[1] = p[1][lims[i]:lims[i+2]]\n",
      "    p2[2] = p[2][lims[i]:lims[i+2]]\n",
      "    \n",
      "    p2 = ordenar(p2,1)\n",
      "    lims2 = getLims(p2[1],a[1])\n",
      "    \n",
      "    for j in range(0,part):\n",
      "        for k in range(0,part):\n",
      "           ro[i,j,k] =  giveRo(a[0,i],a[1,j],a[2,k],j,p2,lims2) \n",
      "            "
     ],
     "language": "python",
     "metadata": {},
     "outputs": [],
     "prompt_number": 117
    },
    {
     "cell_type": "code",
     "collapsed": false,
     "input": [
      "#Una buena forma de comprobar que este metodo es bastante cercano a lo que se desea es utilizando el codigo \n",
      "#ro.sum()*(delta1*delta2*delta0)   el cual debe dar cercano a 4796 que es el numero de elementos. Esto es, ya que estamos\n",
      "#suponiendo que todas las masas son de masa 1.(Tampoco es completamente igual ya que el metodo utilizado tiene un enfoque \n",
      "#distinto, pero basta con que se acerque)\n",
      "ro.sum()*(delta1*delta2*delta0) "
     ],
     "language": "python",
     "metadata": {},
     "outputs": [
      {
       "metadata": {},
       "output_type": "pyout",
       "prompt_number": 116,
       "text": [
        "4716.5811992600029"
       ]
      }
     ],
     "prompt_number": 116
    },
    {
     "cell_type": "code",
     "collapsed": false,
     "input": [
      "len(text)"
     ],
     "language": "python",
     "metadata": {},
     "outputs": [
      {
       "metadata": {},
       "output_type": "pyout",
       "prompt_number": 125,
       "text": [
        "4796"
       ]
      }
     ],
     "prompt_number": 125
    },
    {
     "cell_type": "code",
     "collapsed": false,
     "input": [
      "phi = np.fft.ifftn(-ro)\n",
      "phi = abs(phi)"
     ],
     "language": "python",
     "metadata": {},
     "outputs": [],
     "prompt_number": 124
    },
    {
     "cell_type": "code",
     "collapsed": false,
     "input": [
      "# Derivamos parcialmente en phi para obtener la matriz de fuerza en cada cordenada. Utilizamos la formula \n",
      "#f'(x) = f(x+h)-f(x-h)/2h\n",
      "Fx = -(phi[2:,1:-1,1:-1]-phi[:-2,1:-1,1:-1])/(2*delta0)\n",
      "Fy = -(phi[1:-1,2:,1:-1]-phi[1:-1,:-2,1:-1])/(2*delta1)\n",
      "Fz = -(phi[1:-1,1:-1,2:]-phi[1:-1,1:-1,:-2])/(2*delta2)"
     ],
     "language": "python",
     "metadata": {},
     "outputs": [],
     "prompt_number": 162
    },
    {
     "cell_type": "code",
     "collapsed": false,
     "input": [
      "F2 = Fx**2+Fy**2 + Fz**2 \n"
     ],
     "language": "python",
     "metadata": {},
     "outputs": [
      {
       "metadata": {},
       "output_type": "pyout",
       "prompt_number": 167,
       "text": [
        "3.8129510233427582e-27"
       ]
      }
     ],
     "prompt_number": 167
    },
    {
     "cell_type": "code",
     "collapsed": false,
     "input": [
      "mini = F2.min()\n",
      "Max = F2.max()"
     ],
     "language": "python",
     "metadata": {},
     "outputs": [],
     "prompt_number": 169
    },
    {
     "cell_type": "code",
     "collapsed": false,
     "input": [
      "def darPosicion(num):\n",
      "    for i in range(0,part-2):\n",
      "        for j in range(0,part-2):\n",
      "            for k in range(0,part-2):\n",
      "                if F2[i,j,k] == num:\n",
      "                    return [i,j,k]\n",
      "                \n",
      "darPosicion(mini)           \n",
      "            "
     ],
     "language": "python",
     "metadata": {},
     "outputs": [
      {
       "metadata": {},
       "output_type": "pyout",
       "prompt_number": 172,
       "text": [
        "[74, 74, 74]"
       ]
      }
     ],
     "prompt_number": 172
    },
    {
     "cell_type": "code",
     "collapsed": false,
     "input": [
      "darPosicion(Max)"
     ],
     "language": "python",
     "metadata": {},
     "outputs": [
      {
       "metadata": {},
       "output_type": "pyout",
       "prompt_number": 177,
       "text": [
        "[0, 1, 0]"
       ]
      }
     ],
     "prompt_number": 177
    },
    {
     "cell_type": "code",
     "collapsed": false,
     "input": [
      "x = []\n",
      "y = []\n",
      "z = []\n",
      "n = 0\n",
      "for i in range(1,part-1):\n",
      "    for j in range(1,part-1):\n",
      "        for k in range(1,part-1):\n",
      "            x = np.append(x,a[0][i])           \n",
      "            "
     ],
     "language": "python",
     "metadata": {},
     "outputs": [
      {
       "ename": "KeyboardInterrupt",
       "evalue": "",
       "output_type": "pyerr",
       "traceback": [
        "\u001b[0;31m---------------------------------------------------------------------------\u001b[0m\n\u001b[0;31mKeyboardInterrupt\u001b[0m                         Traceback (most recent call last)",
        "\u001b[0;32m<ipython-input-212-15702c5b89a8>\u001b[0m in \u001b[0;36m<module>\u001b[0;34m()\u001b[0m\n\u001b[1;32m      6\u001b[0m     \u001b[0;32mfor\u001b[0m \u001b[0mj\u001b[0m \u001b[0;32min\u001b[0m \u001b[0mrange\u001b[0m\u001b[0;34m(\u001b[0m\u001b[0;36m1\u001b[0m\u001b[0;34m,\u001b[0m\u001b[0mpart\u001b[0m\u001b[0;34m-\u001b[0m\u001b[0;36m1\u001b[0m\u001b[0;34m)\u001b[0m\u001b[0;34m:\u001b[0m\u001b[0;34m\u001b[0m\u001b[0m\n\u001b[1;32m      7\u001b[0m         \u001b[0;32mfor\u001b[0m \u001b[0mk\u001b[0m \u001b[0;32min\u001b[0m \u001b[0mrange\u001b[0m\u001b[0;34m(\u001b[0m\u001b[0;36m1\u001b[0m\u001b[0;34m,\u001b[0m\u001b[0mpart\u001b[0m\u001b[0;34m-\u001b[0m\u001b[0;36m1\u001b[0m\u001b[0;34m)\u001b[0m\u001b[0;34m:\u001b[0m\u001b[0;34m\u001b[0m\u001b[0m\n\u001b[0;32m----> 8\u001b[0;31m             \u001b[0mx\u001b[0m \u001b[0;34m=\u001b[0m \u001b[0mnp\u001b[0m\u001b[0;34m.\u001b[0m\u001b[0mappend\u001b[0m\u001b[0;34m(\u001b[0m\u001b[0mx\u001b[0m\u001b[0;34m,\u001b[0m\u001b[0ma\u001b[0m\u001b[0;34m[\u001b[0m\u001b[0;36m0\u001b[0m\u001b[0;34m]\u001b[0m\u001b[0;34m[\u001b[0m\u001b[0mi\u001b[0m\u001b[0;34m]\u001b[0m\u001b[0;34m)\u001b[0m\u001b[0;34m\u001b[0m\u001b[0m\n\u001b[0m\u001b[1;32m      9\u001b[0m \u001b[0;34m\u001b[0m\u001b[0m\n",
        "\u001b[0;32m/usr/lib/python2.7/dist-packages/numpy/lib/function_base.pyc\u001b[0m in \u001b[0;36mappend\u001b[0;34m(arr, values, axis)\u001b[0m\n\u001b[1;32m   3553\u001b[0m         \u001b[0mvalues\u001b[0m \u001b[0;34m=\u001b[0m \u001b[0mravel\u001b[0m\u001b[0;34m(\u001b[0m\u001b[0mvalues\u001b[0m\u001b[0;34m)\u001b[0m\u001b[0;34m\u001b[0m\u001b[0m\n\u001b[1;32m   3554\u001b[0m         \u001b[0maxis\u001b[0m \u001b[0;34m=\u001b[0m \u001b[0marr\u001b[0m\u001b[0;34m.\u001b[0m\u001b[0mndim\u001b[0m\u001b[0;34m-\u001b[0m\u001b[0;36m1\u001b[0m\u001b[0;34m\u001b[0m\u001b[0m\n\u001b[0;32m-> 3555\u001b[0;31m     \u001b[0;32mreturn\u001b[0m \u001b[0mconcatenate\u001b[0m\u001b[0;34m(\u001b[0m\u001b[0;34m(\u001b[0m\u001b[0marr\u001b[0m\u001b[0;34m,\u001b[0m \u001b[0mvalues\u001b[0m\u001b[0;34m)\u001b[0m\u001b[0;34m,\u001b[0m \u001b[0maxis\u001b[0m\u001b[0;34m=\u001b[0m\u001b[0maxis\u001b[0m\u001b[0;34m)\u001b[0m\u001b[0;34m\u001b[0m\u001b[0m\n\u001b[0m",
        "\u001b[0;31mKeyboardInterrupt\u001b[0m: "
       ]
      }
     ],
     "prompt_number": 212
    },
    {
     "cell_type": "code",
     "collapsed": false,
     "input": [
      "x"
     ],
     "language": "python",
     "metadata": {},
     "outputs": []
    },
    {
     "cell_type": "code",
     "collapsed": false,
     "input": [
      "from mpl_toolkits.mplot3d import Axes3D\n",
      "import matplotlib.pyplot as plt\n",
      "cm = plt.get_cmap(\"RdYlGn\")\n",
      "\n",
      "x = np.random.rand(100000)\n",
      "y = np.random.rand(100000)\n",
      "z = np.random.rand(100000)\n",
      "col = np.arange(100000)\n",
      "\n",
      "\n",
      "# 3D Plot\n",
      "fig = plt.figure()\n",
      "ax3D = fig.add_subplot(111, projection='3d')\n",
      "p3d = ax3D.scatter(x, y, z, s=30, c=col, marker='o')                                                                                \n",
      "\n",
      "plt.show()"
     ],
     "language": "python",
     "metadata": {},
     "outputs": [],
     "prompt_number": 194
    },
    {
     "cell_type": "code",
     "collapsed": false,
     "input": [
      "np.arange(30)"
     ],
     "language": "python",
     "metadata": {},
     "outputs": [
      {
       "metadata": {},
       "output_type": "pyout",
       "prompt_number": 187,
       "text": [
        "array([ 0,  1,  2,  3,  4,  5,  6,  7,  8,  9, 10, 11, 12, 13, 14, 15, 16,\n",
        "       17, 18, 19, 20, 21, 22, 23, 24, 25, 26, 27, 28, 29])"
       ]
      }
     ],
     "prompt_number": 187
    },
    {
     "cell_type": "code",
     "collapsed": false,
     "input": [],
     "language": "python",
     "metadata": {},
     "outputs": []
    }
   ],
   "metadata": {}
  }
 ]
}