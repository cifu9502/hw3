{
 "metadata": {
  "kernelspec": {
   "display_name": "Python 2",
   "language": "python",
   "name": "python2"
  },
  "language_info": {
   "codemirror_mode": {
    "name": "ipython",
    "version": 2
   },
   "file_extension": ".py",
   "mimetype": "text/x-python",
   "name": "python",
   "nbconvert_exporter": "python",
   "pygments_lexer": "ipython2",
   "version": "2.7.9"
  },
  "name": ""
 },
 "nbformat": 3,
 "nbformat_minor": 0,
 "worksheets": [
  {
   "cells": [
    {
     "cell_type": "heading",
     "level": 1,
     "metadata": {},
     "source": [
      "Exercises"
     ]
    },
    {
     "cell_type": "code",
     "collapsed": false,
     "input": [
      "%pylab inline"
     ],
     "language": "python",
     "metadata": {},
     "outputs": [
      {
       "output_type": "stream",
       "stream": "stdout",
       "text": [
        "Populating the interactive namespace from numpy and matplotlib\n"
       ]
      }
     ],
     "prompt_number": 1
    },
    {
     "cell_type": "markdown",
     "metadata": {
      "slideshow": {
       "slide_type": "slide"
      }
     },
     "source": [
      "## Exercise 1 : trapezoidal integration\n",
      "\n",
      "In this exercise, you are tasked with implementing the simple trapezoid rule\n",
      "formula for numerical integration. If we want to compute the definite integral\n",
      "\n",
      "$$\n",
      "     \\int_{a}^{b}f(x)dx\n",
      "$$\n",
      "\n",
      "we can partition the integration interval $[a,b]$ into smaller subintervals. We then\n",
      "approximate the area under the curve for each subinterval by calculating the area of\n",
      "the trapezoid created by linearly interpolating between the two function values\n",
      "at each end of the subinterval:\n",
      "\n",
      "![Illustration of the trapezoidal rule](http://raw.github.com/SciTools/courses/master/course_content/images/trapezoidal_rule.png)\n",
      "\n",
      "\n",
      "<img src=\"http://upload.wikimedia.org/wikipedia/commons/thumb/d/dd/Trapezoidal_rule_illustration.png/316px-Trapezoidal_rule_illustration.png\" /img>\n",
      "\n",
      "The blue line represents the function $f(x)$ and the red line\n",
      "is the linear interpolation.  By subdividing the interval $[a,b]$, the area under $f(x)$ can thus be approximated as the sum of the areas of all\n",
      "the resulting trapezoids. \n"
     ]
    },
    {
     "cell_type": "markdown",
     "metadata": {
      "slideshow": {
       "slide_type": "subslide"
      }
     },
     "source": [
      "For a pre-computed $y$ array (where $y = f(x)$ at discrete samples) the trapezoidal rule equation is:\n",
      "\n",
      "$$\n",
      "   \\int_{a}^{b}f(x)dx\\approx\\frac{1}{2}\\sum_{i=1}^{n}\\left(x_{i}-x_{i-1}\\right)\\left(y_{i}+y_{i-1}\\right).\n",
      "$$\n",
      "\n",
      "In pure python, this can be written as:\n",
      "\n",
      "    def trapz_slow(x, y):\n",
      "        area = 0.\n",
      "        for i in range(1, len(x)):\n",
      "            area += (x[i] - x[i-1]) * (y[i] + y[i-1])\n",
      "        return area / 2"
     ]
    },
    {
     "cell_type": "markdown",
     "metadata": {
      "slideshow": {
       "slide_type": "subslide"
      }
     },
     "source": [
      "#### Part 1\n",
      "\n",
      "Create two arrays $x$ and $y$, where $x$ is a linearly spaced array in the interval $[3, 12]$ of length 10, and $y$ represents the function $f(x) = x^2- 8x + 24$ sampled at $x$."
     ]
    },
    {
     "cell_type": "code",
     "collapsed": false,
     "input": [
      "def trapz_slow(x, y):\n",
      "    area = 0.\n",
      "    for i in range(1, len(x)):\n",
      "        area += (x[i] - x[i-1]) * (y[i] + y[i-1])\n",
      "    return area / 2"
     ],
     "language": "python",
     "metadata": {},
     "outputs": [],
     "prompt_number": 1
    },
    {
     "cell_type": "markdown",
     "metadata": {
      "slideshow": {
       "slide_type": "-"
      }
     },
     "source": [
      "#### Part 2\n",
      "\n",
      "Use indexing (not a for loop) to find the 9 values representing $y_{i}+y_{i-1}$ for $i$ between 1 and 9 (where $y_{0}$ is the first element of $y$).\n",
      "\n",
      "*Hint: What indexing would be needed to get all but the last element of the 1d array $y$. Similarly what indexing would be needed to get all but the first element of a 1d array.*"
     ]
    },
    {
     "cell_type": "markdown",
     "metadata": {
      "slideshow": {
       "slide_type": "-"
      }
     },
     "source": [
      "#### Part 3\n",
      "\n",
      "Write a function `trapz(x, y)` that applies the trapezoid formula to pre-computed values, where `x` and `y` are 1-d arrays. The function should not use a for loop."
     ]
    },
    {
     "cell_type": "code",
     "collapsed": false,
     "input": [],
     "language": "python",
     "metadata": {},
     "outputs": []
    },
    {
     "cell_type": "markdown",
     "metadata": {
      "slideshow": {
       "slide_type": "-"
      }
     },
     "source": [
      "#### Part 4\n",
      "\n",
      "Verify that your function is correct by using the arrays created in #1 as input to ``trapz``. Your answer should be a close approximation of $\\int_3^{12} x^2 -8x + 24$ which is ?."
     ]
    },
    {
     "cell_type": "markdown",
     "metadata": {
      "slideshow": {
       "slide_type": "-"
      }
     },
     "source": [
      "#### Part 5 (extension)\n",
      "\n",
      "``scipy.integrate`` provides many common integration schemes.  Find a suitable function to perform the trapezoidal integration implemented above and check its result with your own:"
     ]
    },
    {
     "cell_type": "code",
     "collapsed": false,
     "input": [
      "from scipy.integrate import quad,romberg\n",
      "def y(x):\n",
      "    return (x**2 -8*x +24)\n",
      "romberg(y,3,12)"
     ],
     "language": "python",
     "metadata": {},
     "outputs": [
      {
       "metadata": {},
       "output_type": "pyout",
       "prompt_number": 5,
       "text": [
        "243.0"
       ]
      }
     ],
     "prompt_number": 5
    },
    {
     "cell_type": "markdown",
     "metadata": {},
     "source": [
      "## Exercise 2\n",
      "\n",
      "Evaluate the integral\n",
      "\n",
      "$$\n",
      "\\int_0^3 \\int_2^4 \\frac{\\exp((-x_1 + -\\frac{{x_2}^2}{2} + x_1 x_2 +2x_1 - x_2 - 1)}{2\\pi}dx_1 dx_2\n",
      "$$\n"
     ]
    },
    {
     "cell_type": "code",
     "collapsed": false,
     "input": [],
     "language": "python",
     "metadata": {},
     "outputs": []
    },
    {
     "cell_type": "markdown",
     "metadata": {},
     "source": [
      "# 2D integrals (using Monte-Carlo)\n",
      "\n",
      "The methods we have used might be extended to 2-D integrals but they quickly become cumbersome. Instead we will follow the path of Monte-Carlo integration for highly dimensional integrals.\n",
      "\n",
      "The principle is that to solve an integral in 2-D, we will generate a swarm of points in 3D within the intervals that we care: $x_{\\rm min}, x_{\\rm max}$, $y_{\\rm min}$, $y_{\\rm max}$, $f_{\\rm min}(x,y)$ and $f_{\\rm max}(x,y)$. \n",
      "\n",
      "Let's start with a concrete example. The integral of a 1-D gaussian:\n",
      "$$\n",
      "\\int_{-5}^{5} \\exp(-x^2)dx \\sim \\int_{-\\infty}^{\\infty}\\exp{(-x^2)} = \\sqrt{\\pi}\n",
      "$$"
     ]
    },
    {
     "cell_type": "markdown",
     "metadata": {},
     "source": [
      "# Integrals by mean value\n",
      "\n",
      "Now we introduce the more standard Monte-Carlo technique. It is based on the mean value theorem\n",
      "\n",
      "$$\n",
      "\\int_a^b f(x) = (b-a)\\langle f\\rangle\n",
      "$$\n",
      "\n",
      "In this way we can simply approximate the average value of $f$ as the average of different values $f(x_i)$ and we can write\n",
      "\n",
      "$$\n",
      "\\int_a^b f(x) = (b-a)\\frac{1}{N}\\sum_{i=1}^N f(x_i)\n",
      "$$\n",
      "\n",
      "where the $x_i$ are numbers randomly generated following a flat distribution in the range $a<x<b$.\n",
      "\n",
      "\n",
      "\n"
     ]
    },
    {
     "cell_type": "markdown",
     "metadata": {},
     "source": [
      "## Exercise 3\n",
      "\n",
      "Evaluate the 10-D integral\n",
      "\n",
      "$$\n",
      "\\int_0^1 dx_1 \\cdots\\int_0^1 dx_{10} (x_1 + x_2 +\\cdots+x_{10})^2\n",
      "$$\n",
      "\n",
      "and check our answer againts the analytical result $155/6$."
     ]
    },
    {
     "cell_type": "code",
     "collapsed": false,
     "input": [
      "import random\n",
      "N = 20000\n",
      "def ran(n):\n",
      "    rand = []\n",
      "    for j in range(0,n):\n",
      "        point = []\n",
      "        for i in range (0,10):\n",
      "            point.append(random.random())\n",
      "        point.append(random.random()*100) \n",
      "        rand.append(point)\n",
      "        \n",
      "    return rand   "
     ],
     "language": "python",
     "metadata": {},
     "outputs": [],
     "prompt_number": 135
    },
    {
     "cell_type": "code",
     "collapsed": false,
     "input": [
      "def f(x):\n",
      "    return sum(x)**2\n"
     ],
     "language": "python",
     "metadata": {},
     "outputs": [],
     "prompt_number": 136
    },
    {
     "cell_type": "code",
     "collapsed": false,
     "input": [
      "from __future__ import division\n",
      "m = 200\n",
      "a = []\n",
      "for i in range(0,m):\n",
      "    rand = ran(N)\n",
      "    int = 0\n",
      "    for x in rand:\n",
      "        if(f(x[:-1])> x[-1]):\n",
      "            int = int + 1\n",
      "    a.append(int*100/N)        \n",
      "    "
     ],
     "language": "python",
     "metadata": {},
     "outputs": [],
     "prompt_number": 142
    },
    {
     "cell_type": "code",
     "collapsed": false,
     "input": [
      "mean(a)"
     ],
     "language": "python",
     "metadata": {},
     "outputs": [
      {
       "metadata": {},
       "output_type": "pyout",
       "prompt_number": 143,
       "text": [
        "25.826900000000006"
       ]
      }
     ],
     "prompt_number": 143
    },
    {
     "cell_type": "code",
     "collapsed": false,
     "input": [
      "155/6"
     ],
     "language": "python",
     "metadata": {},
     "outputs": [
      {
       "metadata": {},
       "output_type": "pyout",
       "prompt_number": 144,
       "text": [
        "25.833333333333332"
       ]
      }
     ],
     "prompt_number": 144
    },
    {
     "cell_type": "code",
     "collapsed": false,
     "input": [
      "std(a)"
     ],
     "language": "python",
     "metadata": {},
     "outputs": [
      {
       "metadata": {},
       "output_type": "pyout",
       "prompt_number": 145,
       "text": [
        "0.27917044972561117"
       ]
      }
     ],
     "prompt_number": 145
    },
    {
     "cell_type": "code",
     "collapsed": false,
     "input": [
      "sort(a)"
     ],
     "language": "python",
     "metadata": {},
     "outputs": [
      {
       "metadata": {},
       "output_type": "pyout",
       "prompt_number": 146,
       "text": [
        "array([ 24.92 ,  25.175,  25.25 ,  25.275,  25.28 ,  25.285,  25.32 ,\n",
        "        25.345,  25.375,  25.415,  25.42 ,  25.42 ,  25.43 ,  25.445,\n",
        "        25.46 ,  25.46 ,  25.465,  25.465,  25.47 ,  25.48 ,  25.48 ,\n",
        "        25.48 ,  25.49 ,  25.49 ,  25.495,  25.5  ,  25.505,  25.51 ,\n",
        "        25.52 ,  25.52 ,  25.53 ,  25.54 ,  25.545,  25.545,  25.55 ,\n",
        "        25.555,  25.555,  25.555,  25.56 ,  25.56 ,  25.57 ,  25.585,\n",
        "        25.59 ,  25.59 ,  25.595,  25.605,  25.61 ,  25.625,  25.63 ,\n",
        "        25.63 ,  25.635,  25.635,  25.635,  25.635,  25.64 ,  25.64 ,\n",
        "        25.66 ,  25.665,  25.68 ,  25.68 ,  25.68 ,  25.685,  25.685,\n",
        "        25.69 ,  25.7  ,  25.7  ,  25.7  ,  25.705,  25.71 ,  25.715,\n",
        "        25.72 ,  25.72 ,  25.72 ,  25.725,  25.73 ,  25.74 ,  25.74 ,\n",
        "        25.745,  25.745,  25.745,  25.745,  25.765,  25.765,  25.77 ,\n",
        "        25.775,  25.785,  25.79 ,  25.795,  25.795,  25.795,  25.8  ,\n",
        "        25.8  ,  25.805,  25.805,  25.81 ,  25.81 ,  25.81 ,  25.81 ,\n",
        "        25.82 ,  25.825,  25.83 ,  25.835,  25.835,  25.84 ,  25.845,\n",
        "        25.845,  25.85 ,  25.855,  25.855,  25.855,  25.865,  25.865,\n",
        "        25.865,  25.875,  25.885,  25.885,  25.885,  25.89 ,  25.89 ,\n",
        "        25.89 ,  25.895,  25.895,  25.9  ,  25.9  ,  25.905,  25.905,\n",
        "        25.91 ,  25.915,  25.925,  25.93 ,  25.94 ,  25.94 ,  25.94 ,\n",
        "        25.945,  25.945,  25.955,  25.955,  25.955,  25.96 ,  25.975,\n",
        "        25.98 ,  25.98 ,  25.99 ,  25.99 ,  26.   ,  26.   ,  26.005,\n",
        "        26.005,  26.015,  26.025,  26.025,  26.03 ,  26.035,  26.045,\n",
        "        26.045,  26.045,  26.045,  26.05 ,  26.05 ,  26.05 ,  26.05 ,\n",
        "        26.05 ,  26.055,  26.055,  26.065,  26.07 ,  26.07 ,  26.08 ,\n",
        "        26.085,  26.105,  26.115,  26.125,  26.135,  26.14 ,  26.155,\n",
        "        26.155,  26.165,  26.18 ,  26.195,  26.195,  26.2  ,  26.23 ,\n",
        "        26.235,  26.245,  26.255,  26.265,  26.28 ,  26.285,  26.31 ,\n",
        "        26.315,  26.32 ,  26.325,  26.33 ,  26.34 ,  26.355,  26.355,\n",
        "        26.365,  26.435,  26.485,  26.615])"
       ]
      }
     ],
     "prompt_number": 146
    },
    {
     "cell_type": "code",
     "collapsed": false,
     "input": [],
     "language": "python",
     "metadata": {},
     "outputs": []
    }
   ],
   "metadata": {}
  }
 ]
}