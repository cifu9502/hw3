{
 "metadata": {
  "name": ""
 },
 "nbformat": 3,
 "nbformat_minor": 0,
 "worksheets": [
  {
   "cells": [
    {
     "cell_type": "code",
     "collapsed": false,
     "input": [
      "from __future__ import division\n",
      "import numpy as np\n",
      "import string\n",
      "\n",
      "\n",
      "from matplotlib import pyplot as plt\n",
      "from scipy.interpolate import UnivariateSpline\n",
      "from scipy import interpolate\n",
      "\n",
      "#archivo a leer\n",
      "s = 'coastal-stns-byVol-updated-oct2007.txt'\n",
      "\n",
      "\n",
      "#Se lee el archivo\n",
      "infile = open(s, 'r')\n",
      "text = infile.readlines()\n",
      "#En vec se guardaran las lineas del texto en una forma mucho mas leible\n",
      "vec = []\n",
      "#flux sera el vector de flujos\n",
      "flux = []\n",
      "for x in text:\n",
      "    #parte el texto x segun ' '\n",
      "    a = x.split(' ')\n",
      "    n = 0\n",
      "    for y in x.split(' '):\n",
      "        #omite los residuos de la forma ''\n",
      "        if(y == ''):\n",
      "            a.pop(n)\n",
      "            n = n-1\n",
      "        if((n == 5) & (y != '')& (y != 'Vol(km3/yr)')):\n",
      "            flux.append(float(y))\n",
      "        n = n+1\n",
      "    vec.append(a)    \n",
      "titulos = vec.pop(0)\n",
      "\n",
      "#rios contendra los 300 rios con mayor flujo\n",
      "rios = []\n",
      "f = []\n",
      "for i in range(0,300):\n",
      "    #se encuentra el maximo de los flujos y luego se busca la linea que contenga este flujo\n",
      "    m = max(flux)\n",
      "    i = 0\n",
      "    for v in vec:\n",
      "        if flux[i] == m:\n",
      "            f.append(m)\n",
      "            rios.append(v)\n",
      "            flux.remove(m)\n",
      "            vec.remove(v)\n",
      "            break\n",
      "        i = i +1\n"
     ],
     "language": "python",
     "metadata": {},
     "outputs": [],
     "prompt_number": 2
    },
    {
     "cell_type": "code",
     "collapsed": false,
     "input": [
      "import csv\n",
      "#se escribe el csv con los rios encontrados anteriormente. El delimitador sera ','\n",
      "with open('top_300_rios.csv', 'w' ) as fp:\n",
      "    arch = csv.writer(fp, delimiter=',')\n",
      "    for v in rios:\n",
      "        v = v[:13]\n",
      "        arch.writerow(v)\n",
      "        \n",
      "    "
     ],
     "language": "python",
     "metadata": {},
     "outputs": [],
     "prompt_number": 228
    }
   ],
   "metadata": {}
  }
 ]
}