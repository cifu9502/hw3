{
 "metadata": {
  "name": ""
 },
 "nbformat": 3,
 "nbformat_minor": 0,
 "worksheets": [
  {
   "cells": [
    {
     "cell_type": "code",
     "collapsed": false,
     "input": [
      "from netCDF4 import Dataset\n",
      "from scipy.interpolate import griddata\n",
      "import numpy as np\n",
      "file = 'air.mon.ltm .nc'\n",
      "fh = Dataset(file, mode='r')\n",
      "lons = fh.variables['lon'][:]\n",
      "air = fh.variables['air'][:]\n",
      "lats = fh.variables['lat'][:]\n",
      "time = fh.variables['time'][:]\n",
      "fh.close()"
     ],
     "language": "python",
     "metadata": {},
     "outputs": [],
     "prompt_number": 53
    },
    {
     "cell_type": "code",
     "collapsed": false,
     "input": [
      "import matplotlib.pyplot as plt\n",
      "from mpl_toolkits.basemap import Basemap\n",
      "\n",
      "\n",
      "grid_x, grid_y = np.mgrid[-90:90:200j, 0:360:200j]\n",
      "points = []\n",
      "values = []\n",
      "for i in range(0,len(lats)):\n",
      "    for j in range(0,len(lats)):\n",
      "        points.append([lats[i],lons[j]])\n",
      "        values.append(air[0,i,j])\n",
      "points = np.asarray(points)   \n",
      "values = np.asarray(values)   \n",
      "\n",
      "    \n",
      "\n"
     ],
     "language": "python",
     "metadata": {},
     "outputs": [],
     "prompt_number": 82
    },
    {
     "cell_type": "code",
     "collapsed": false,
     "input": [
      "\n",
      "grid_z0 = griddata(points, values, (grid_x, grid_y), method='nearest')\n",
      "plt.imshow(grid_z0.T, extent=(-90,90,0,360), origin='lower')\n",
      "plt.title('Nearest')\n",
      "plt.plot()\n",
      "plt.show()"
     ],
     "language": "python",
     "metadata": {},
     "outputs": [],
     "prompt_number": 87
    },
    {
     "cell_type": "code",
     "collapsed": false,
     "input": [
      "\n",
      "nx = int((m.xmax-m.xmin)/5000.)+1; ny = int((m.ymax-m.ymin)/5000.)+1\n",
      "fig = plt.figure()\n",
      "m = Basemap(projection='kav7',lon_0=0,resolution=None)\n",
      "\n",
      "#topodat = m.transform_scalar(air[0],lons,lats,nx,ny)\n",
      "plt.show()"
     ],
     "language": "python",
     "metadata": {},
     "outputs": [],
     "prompt_number": 101
    },
    {
     "cell_type": "code",
     "collapsed": false,
     "input": [],
     "language": "python",
     "metadata": {},
     "outputs": [],
     "prompt_number": 100
    },
    {
     "cell_type": "code",
     "collapsed": false,
     "input": [],
     "language": "python",
     "metadata": {},
     "outputs": []
    }
   ],
   "metadata": {}
  }
 ]
}